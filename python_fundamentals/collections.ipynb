{
 "cells": [
  {
   "cell_type": "markdown",
   "id": "c209919d",
   "metadata": {},
   "source": [
    "# Collections\n",
    "\n",
    "**Prerequisites**\n",
    "\n",
    "- [Core data types](https://datascience.quantecon.org/basics.html)  \n",
    "\n",
    "\n",
    "**Outcomes**\n",
    "\n",
    "- Ordered Collections  \n",
    "  - Know what a list is and a tuple is  \n",
    "  - Know how to tell a list from a tuple  \n",
    "  - Understand the `range`, `zip` and `enumerate` functions  \n",
    "  - Be able to use common list methods like `append`, `sort`,\n",
    "    and `reverse`  \n",
    "- Associative Collections  \n",
    "  - Understand what a `dict` is  \n",
    "  - Know the distinction between a dicts keys and values  \n",
    "  - Understand when `dict`s are useful  \n",
    "  - Be familiar with common `dict` methods  \n",
    "- Sets  (optional)  \n",
    "  - Know what a set is  \n",
    "  - Understand how a set differs from a list and a tuple  \n",
    "  - Know when to use a set vs a list or a tuple  "
   ]
  },
  {
   "cell_type": "markdown",
   "id": "6c14b78a",
   "metadata": {},
   "source": [
    "## Ordered Collections"
   ]
  },
  {
   "cell_type": "markdown",
   "id": "80b2147b",
   "metadata": {},
   "source": [
    "### Lists\n",
    "\n",
    "A Python list is an ordered collection of items.\n",
    "\n",
    "We can create lists using the following syntax"
   ]
  },
  {
   "cell_type": "code",
   "execution_count": 1,
   "id": "4cfc0b63",
   "metadata": {
    "hide-output": false
   },
   "outputs": [
    {
     "ename": "NameError",
     "evalue": "name 'item1' is not defined",
     "output_type": "error",
     "traceback": [
      "\u001b[1;31m---------------------------------------------------------------------------\u001b[0m",
      "\u001b[1;31mNameError\u001b[0m                                 Traceback (most recent call last)",
      "Cell \u001b[1;32mIn[1], line 1\u001b[0m\n\u001b[1;32m----> 1\u001b[0m [\u001b[43mitem1\u001b[49m, item2, \u001b[38;5;241m.\u001b[39m\u001b[38;5;241m.\u001b[39m\u001b[38;5;241m.\u001b[39m,  itemN]\n",
      "\u001b[1;31mNameError\u001b[0m: name 'item1' is not defined"
     ]
    }
   ],
   "source": [
    "[item1, item2, ...,  itemN]"
   ]
  },
  {
   "cell_type": "markdown",
   "id": "f3eb456e",
   "metadata": {},
   "source": [
    "where the `...` represents any number of additional items.\n",
    "\n",
    "Each item can be of any type.\n",
    "\n",
    "Let’s create some lists."
   ]
  },
  {
   "cell_type": "code",
   "execution_count": 2,
   "id": "25cd4869",
   "metadata": {
    "hide-output": false
   },
   "outputs": [
    {
     "data": {
      "text/plain": [
       "[2.0, 9.1, 12.5]"
      ]
     },
     "execution_count": 2,
     "metadata": {},
     "output_type": "execute_result"
    }
   ],
   "source": [
    "# created, but not assigned to a variable\n",
    "[2.0, 9.1, 12.5]"
   ]
  },
  {
   "cell_type": "code",
   "execution_count": 3,
   "id": "39bb475a",
   "metadata": {
    "hide-output": false
   },
   "outputs": [
    {
     "name": "stdout",
     "output_type": "stream",
     "text": [
      "x has type <class 'list'>\n"
     ]
    },
    {
     "data": {
      "text/plain": [
       "[2.0, 9.1, 12.5]"
      ]
     },
     "execution_count": 3,
     "metadata": {},
     "output_type": "execute_result"
    }
   ],
   "source": [
    "# stored as the variable `x`\n",
    "x = [2.0, 9.1, 12.5]\n",
    "print(\"x has type\", type(x))\n",
    "x"
   ]
  },
  {
   "cell_type": "markdown",
   "id": "a041bff2",
   "metadata": {},
   "source": [
    "#### What Can We Do with Lists?\n",
    "\n",
    "We can access items in a list called `mylist` using `mylist[N]`\n",
    "where `N` is an integer.\n",
    "\n",
    "Note: Anytime that we use the syntax `x[i]` we are doing what is\n",
    "called indexing – it means that we are selecting a particular element\n",
    "of a *collection* `x`."
   ]
  },
  {
   "cell_type": "code",
   "execution_count": 4,
   "id": "5be19ef0",
   "metadata": {
    "hide-output": false
   },
   "outputs": [
    {
     "data": {
      "text/plain": [
       "9.1"
      ]
     },
     "execution_count": 4,
     "metadata": {},
     "output_type": "execute_result"
    }
   ],
   "source": [
    "x[1]"
   ]
  },
  {
   "cell_type": "markdown",
   "id": "eb5bba62",
   "metadata": {},
   "source": [
    "Wait? Why did `x[1]` return `9.1` when the first element in x is\n",
    "actually `2.0`?\n",
    "\n",
    "This happened because Python starts counting at zero!\n",
    "\n",
    "Lets repeat that one more time for emphasis **Python starts counting at zero**!\n",
    "\n",
    "To access the first element of x we must use `x[0]`:"
   ]
  },
  {
   "cell_type": "code",
   "execution_count": 5,
   "id": "51943951",
   "metadata": {
    "hide-output": false
   },
   "outputs": [
    {
     "data": {
      "text/plain": [
       "2.0"
      ]
     },
     "execution_count": 5,
     "metadata": {},
     "output_type": "execute_result"
    }
   ],
   "source": [
    "x[0]"
   ]
  },
  {
   "cell_type": "markdown",
   "id": "9e0c7a05",
   "metadata": {},
   "source": [
    "We can also determine how many items are in a list using the `len` function."
   ]
  },
  {
   "cell_type": "code",
   "execution_count": 6,
   "id": "e6b356b1",
   "metadata": {
    "hide-output": false
   },
   "outputs": [
    {
     "data": {
      "text/plain": [
       "3"
      ]
     },
     "execution_count": 6,
     "metadata": {},
     "output_type": "execute_result"
    }
   ],
   "source": [
    "len(x)"
   ]
  },
  {
   "cell_type": "markdown",
   "id": "917bdff5",
   "metadata": {},
   "source": [
    "What happens if we try to index with a number higher than the number of\n",
    "items in a list?"
   ]
  },
  {
   "cell_type": "code",
   "execution_count": 7,
   "id": "e8fa750b",
   "metadata": {
    "hide-output": false
   },
   "outputs": [
    {
     "ename": "IndexError",
     "evalue": "list index out of range",
     "output_type": "error",
     "traceback": [
      "\u001b[1;31m---------------------------------------------------------------------------\u001b[0m",
      "\u001b[1;31mIndexError\u001b[0m                                Traceback (most recent call last)",
      "Cell \u001b[1;32mIn[7], line 2\u001b[0m\n\u001b[0;32m      1\u001b[0m \u001b[38;5;66;03m# uncomment the line below and run\u001b[39;00m\n\u001b[1;32m----> 2\u001b[0m \u001b[43mx\u001b[49m\u001b[43m[\u001b[49m\u001b[38;5;241;43m4\u001b[39;49m\u001b[43m]\u001b[49m\n",
      "\u001b[1;31mIndexError\u001b[0m: list index out of range"
     ]
    }
   ],
   "source": [
    "# uncomment the line below and run\n",
    "x[4]"
   ]
  },
  {
   "cell_type": "markdown",
   "id": "f870171b",
   "metadata": {},
   "source": [
    "We can check if a list contains an element using the `in` keyword."
   ]
  },
  {
   "cell_type": "code",
   "execution_count": 8,
   "id": "414578d5",
   "metadata": {
    "hide-output": false
   },
   "outputs": [
    {
     "data": {
      "text/plain": [
       "True"
      ]
     },
     "execution_count": 8,
     "metadata": {},
     "output_type": "execute_result"
    }
   ],
   "source": [
    "2.0 in x"
   ]
  },
  {
   "cell_type": "code",
   "execution_count": 9,
   "id": "74b11488",
   "metadata": {
    "hide-output": false
   },
   "outputs": [
    {
     "data": {
      "text/plain": [
       "False"
      ]
     },
     "execution_count": 9,
     "metadata": {},
     "output_type": "execute_result"
    }
   ],
   "source": [
    "1.5 in x"
   ]
  },
  {
   "cell_type": "markdown",
   "id": "0e82ce61",
   "metadata": {},
   "source": [
    "For our list `x`, other common operations we might want to do are…"
   ]
  },
  {
   "cell_type": "code",
   "execution_count": 10,
   "id": "5bf88ed1",
   "metadata": {
    "hide-output": false
   },
   "outputs": [
    {
     "data": {
      "text/plain": [
       "[12.5, 9.1, 2.0]"
      ]
     },
     "execution_count": 10,
     "metadata": {},
     "output_type": "execute_result"
    }
   ],
   "source": [
    "x.reverse()\n",
    "x"
   ]
  },
  {
   "cell_type": "code",
   "execution_count": 11,
   "id": "1151c755",
   "metadata": {
    "hide-output": false
   },
   "outputs": [
    {
     "name": "stdout",
     "output_type": "stream",
     "text": [
      "[10, 25, 42, 1.0]\n",
      "[1.0, 10, 25, 42]\n"
     ]
    }
   ],
   "source": [
    "number_list = [10, 25, 42, 1.0]\n",
    "print(number_list)\n",
    "number_list.sort()\n",
    "print(number_list)"
   ]
  },
  {
   "cell_type": "markdown",
   "id": "3e46472f",
   "metadata": {},
   "source": [
    "Note that in order to `sort`, we had to have all elements in our list\n",
    "be numbers (`int` and `float`), more on this [below](#inhomogenous-lists).\n",
    "\n",
    "We could actually do the same with a list of strings. In this case, `sort`\n",
    "will put the items in alphabetical order."
   ]
  },
  {
   "cell_type": "code",
   "execution_count": 12,
   "id": "fdad4512",
   "metadata": {
    "hide-output": false
   },
   "outputs": [
    {
     "name": "stdout",
     "output_type": "stream",
     "text": [
      "['NY', 'AZ', 'TX']\n",
      "['AZ', 'NY', 'TX']\n"
     ]
    }
   ],
   "source": [
    "str_list = [\"NY\", \"AZ\", \"TX\"]\n",
    "print(str_list)\n",
    "str_list.sort()\n",
    "print(str_list)"
   ]
  },
  {
   "cell_type": "markdown",
   "id": "38f7b9d9",
   "metadata": {},
   "source": [
    "The `append` method adds an element to the end of existing list."
   ]
  },
  {
   "cell_type": "code",
   "execution_count": 13,
   "id": "5865311a",
   "metadata": {
    "hide-output": false
   },
   "outputs": [
    {
     "name": "stdout",
     "output_type": "stream",
     "text": [
      "[10, 25, 42, 8]\n",
      "[10, 25, 42, 8, 10]\n"
     ]
    }
   ],
   "source": [
    "num_list = [10, 25, 42, 8]\n",
    "print(num_list)\n",
    "num_list.append(10)\n",
    "print(num_list)"
   ]
  },
  {
   "cell_type": "markdown",
   "id": "e3e901c1",
   "metadata": {},
   "source": [
    "However, if you call `append` with a list, it adds a `list` to the end,\n",
    "rather than the numbers in that list."
   ]
  },
  {
   "cell_type": "code",
   "execution_count": 14,
   "id": "d93bf864",
   "metadata": {
    "hide-output": false
   },
   "outputs": [
    {
     "name": "stdout",
     "output_type": "stream",
     "text": [
      "[10, 25, 42, 8]\n",
      "[10, 25, 42, 8, [20, 4]]\n"
     ]
    }
   ],
   "source": [
    "num_list = [10, 25, 42, 8]\n",
    "print(num_list)\n",
    "num_list.append([20, 4])\n",
    "print(num_list)"
   ]
  },
  {
   "cell_type": "markdown",
   "id": "c5e19996",
   "metadata": {},
   "source": [
    "To combine the lists instead…"
   ]
  },
  {
   "cell_type": "code",
   "execution_count": 15,
   "id": "697ac116",
   "metadata": {
    "hide-output": false
   },
   "outputs": [
    {
     "name": "stdout",
     "output_type": "stream",
     "text": [
      "[10, 25, 42, 8]\n",
      "[10, 25, 42, 8, 20, 4]\n"
     ]
    }
   ],
   "source": [
    "num_list = [10, 25, 42, 8]\n",
    "print(num_list)\n",
    "num_list.extend([20, 4])\n",
    "print(num_list)"
   ]
  },
  {
   "cell_type": "markdown",
   "id": "f7cc9d1f",
   "metadata": {},
   "source": [
    "#### Exercise\n",
    "\n",
    "See exercise 1 in the [exercise list](#ex2-2).\n",
    "\n",
    "\n",
    "<a id='inhomogenous-lists'></a>"
   ]
  },
  {
   "cell_type": "markdown",
   "id": "a2cd347d",
   "metadata": {},
   "source": [
    "### Lists of Different Types\n",
    "\n",
    "While most examples above have all used a `list` with\n",
    "a single type of variable, this is not required.\n",
    "\n",
    "Let’s carefully make a small change to the first example: replace `2.0` with `2`"
   ]
  },
  {
   "cell_type": "code",
   "execution_count": 16,
   "id": "7fb9a5e1",
   "metadata": {
    "hide-output": false
   },
   "outputs": [],
   "source": [
    "x = [2, 9.1, 12.5]"
   ]
  },
  {
   "cell_type": "markdown",
   "id": "500635fb",
   "metadata": {},
   "source": [
    "This behavior is identical for many operations you might\n",
    "apply to a list."
   ]
  },
  {
   "cell_type": "code",
   "execution_count": 17,
   "id": "23422d41",
   "metadata": {
    "hide-output": false
   },
   "outputs": [
    {
     "data": {
      "text/plain": [
       "True"
      ]
     },
     "execution_count": 17,
     "metadata": {},
     "output_type": "execute_result"
    }
   ],
   "source": [
    "import numpy as np\n",
    "x = [2, 9.1, 12.5]\n",
    "np.mean(x) == sum(x)/len(x)"
   ]
  },
  {
   "cell_type": "markdown",
   "id": "c279bd81",
   "metadata": {},
   "source": [
    "Here we have also introduced a new [module](https://datascience.quantecon.org/basics.html#modules),\n",
    "[Numpy](https://datascience.quantecon.org/../scientific/index.html), which provides many functions\n",
    "for working with numeric data.\n",
    "\n",
    "Taking this further, we can put completely different types of elements\n",
    "inside of a list."
   ]
  },
  {
   "cell_type": "code",
   "execution_count": 18,
   "id": "391bd8e3",
   "metadata": {
    "hide-output": false
   },
   "outputs": [
    {
     "name": "stdout",
     "output_type": "stream",
     "text": [
      "x has type <class 'list'>\n"
     ]
    },
    {
     "data": {
      "text/plain": [
       "[2, 'hello', 3.0]"
      ]
     },
     "execution_count": 18,
     "metadata": {},
     "output_type": "execute_result"
    }
   ],
   "source": [
    "# stored as the variable `x`\n",
    "x = [2, \"hello\", 3.0]\n",
    "print(\"x has type\", type(x))\n",
    "x"
   ]
  },
  {
   "cell_type": "markdown",
   "id": "f447413f",
   "metadata": {},
   "source": [
    "To see the types of individual elements in the list:"
   ]
  },
  {
   "cell_type": "code",
   "execution_count": 19,
   "id": "c71123e0",
   "metadata": {
    "hide-output": false
   },
   "outputs": [
    {
     "name": "stdout",
     "output_type": "stream",
     "text": [
      "type(x[0]) = <class 'int'>, type(x[1]) = <class 'str'>, type(x[2]) = <class 'float'>\n"
     ]
    }
   ],
   "source": [
    "print(f\"type(x[0]) = {type(x[0])}, type(x[1]) = {type(x[1])}, type(x[2]) = {type(x[2])}\")"
   ]
  },
  {
   "cell_type": "markdown",
   "id": "9a767726",
   "metadata": {},
   "source": [
    "While no programming limitations prevent this, you should be careful if you write code\n",
    "with different numeric and non-numeric types in the same list.\n",
    "\n",
    "For example, if the types within the list cannot be compared, then how could you sort the elements of the list? (i.e. How do you determine whether the string “hello” is less than the integer 2, “hello” < 2?)"
   ]
  },
  {
   "cell_type": "code",
   "execution_count": 21,
   "id": "2c4e3f7b",
   "metadata": {
    "hide-output": false
   },
   "outputs": [
    {
     "ename": "TypeError",
     "evalue": "'<' not supported between instances of 'str' and 'int'",
     "output_type": "error",
     "traceback": [
      "\u001b[1;31m---------------------------------------------------------------------------\u001b[0m",
      "\u001b[1;31mTypeError\u001b[0m                                 Traceback (most recent call last)",
      "Cell \u001b[1;32mIn[21], line 3\u001b[0m\n\u001b[0;32m      1\u001b[0m x \u001b[38;5;241m=\u001b[39m [\u001b[38;5;241m2\u001b[39m, \u001b[38;5;124m\"\u001b[39m\u001b[38;5;124mhello\u001b[39m\u001b[38;5;124m\"\u001b[39m, \u001b[38;5;241m3.0\u001b[39m]\n\u001b[0;32m      2\u001b[0m \u001b[38;5;66;03m# uncomment the line below and see what happens!\u001b[39;00m\n\u001b[1;32m----> 3\u001b[0m \u001b[43mx\u001b[49m\u001b[38;5;241;43m.\u001b[39;49m\u001b[43msort\u001b[49m\u001b[43m(\u001b[49m\u001b[43m)\u001b[49m\n",
      "\u001b[1;31mTypeError\u001b[0m: '<' not supported between instances of 'str' and 'int'"
     ]
    }
   ],
   "source": [
    "x = [2, \"hello\", 3.0]\n",
    "# uncomment the line below and see what happens!\n",
    "x.sort()"
   ]
  },
  {
   "cell_type": "markdown",
   "id": "25d248c7",
   "metadata": {},
   "source": [
    "A few key exceptions to this general rule are:\n",
    "\n",
    "- Lists with both integers and floating points are less error-prone\n",
    "  (since mathematical code using the list would work with both types).  \n",
    "- When working with lists and data, you may want to represent missing\n",
    "  values with a different type than the existing values.  "
   ]
  },
  {
   "cell_type": "markdown",
   "id": "2bb9e888",
   "metadata": {},
   "source": [
    "### The `range` Function\n",
    "\n",
    "One function you will see often in Python is the `range` function.\n",
    "\n",
    "It has three versions:\n",
    "\n",
    "1. `range(N)`: goes from 0 to N-1  \n",
    "1. `range(a, N)`: goes from a to N-1  \n",
    "1. `range(a, N, d)`: goes from a to N-1, counting by d  \n",
    "\n",
    "\n",
    "When we call the `range` function, we get back something that has type `range`:"
   ]
  },
  {
   "cell_type": "code",
   "execution_count": 22,
   "id": "680a89a7",
   "metadata": {
    "hide-output": false
   },
   "outputs": [
    {
     "name": "stdout",
     "output_type": "stream",
     "text": [
      "type(r) <class 'range'>\n"
     ]
    }
   ],
   "source": [
    "r = range(5)\n",
    "print(\"type(r)\", type(r))"
   ]
  },
  {
   "cell_type": "markdown",
   "id": "7b08a2da",
   "metadata": {},
   "source": [
    "To turn the `range` into a list:"
   ]
  },
  {
   "cell_type": "code",
   "execution_count": 23,
   "id": "38ae82ba",
   "metadata": {
    "hide-output": false
   },
   "outputs": [
    {
     "data": {
      "text/plain": [
       "[0, 1, 2, 3, 4]"
      ]
     },
     "execution_count": 23,
     "metadata": {},
     "output_type": "execute_result"
    }
   ],
   "source": [
    "list(r)"
   ]
  },
  {
   "cell_type": "markdown",
   "id": "e9d165d2",
   "metadata": {},
   "source": [
    "### Exercise\n",
    "\n",
    "See exercise 2 in the [exercise list](#ex2-2)."
   ]
  },
  {
   "cell_type": "markdown",
   "id": "e9093c2a",
   "metadata": {},
   "source": [
    "### What are Tuples?\n",
    "\n",
    "Tuples are very similar to lists and hold ordered collections of items.\n",
    "\n",
    "However, tuples and lists have three main differences:\n",
    "\n",
    "1. Tuples are created using parenthesis — `(` and `)` — instead of\n",
    "  square brackets — `[` and `]`.  \n",
    "1. Tuples are *immutable*, which is a fancy computer science word\n",
    "  meaning that they can’t be changed or altered after they are created.  \n",
    "1. Tuples and multiple return values\n",
    "  from functions are tightly connected, as we will see in [functions](https://datascience.quantecon.org/functions.html).  "
   ]
  },
  {
   "cell_type": "code",
   "execution_count": 24,
   "id": "1ea5513e",
   "metadata": {
    "hide-output": false
   },
   "outputs": [
    {
     "name": "stdout",
     "output_type": "stream",
     "text": [
      "t is a <class 'tuple'>\n"
     ]
    },
    {
     "data": {
      "text/plain": [
       "(1, 'hello', 3.0)"
      ]
     },
     "execution_count": 24,
     "metadata": {},
     "output_type": "execute_result"
    }
   ],
   "source": [
    "t = (1, \"hello\", 3.0)\n",
    "print(\"t is a\", type(t))\n",
    "t"
   ]
  },
  {
   "cell_type": "markdown",
   "id": "566948ca",
   "metadata": {},
   "source": [
    "We can *convert* a list to a tuple by calling the `tuple` function on\n",
    "a list."
   ]
  },
  {
   "cell_type": "code",
   "execution_count": 25,
   "id": "fa15984d",
   "metadata": {
    "hide-output": false
   },
   "outputs": [
    {
     "name": "stdout",
     "output_type": "stream",
     "text": [
      "x is a <class 'list'>\n",
      "tuple(x) is a <class 'tuple'>\n"
     ]
    },
    {
     "data": {
      "text/plain": [
       "(2, 'hello', 3.0)"
      ]
     },
     "execution_count": 25,
     "metadata": {},
     "output_type": "execute_result"
    }
   ],
   "source": [
    "print(\"x is a\", type(x))\n",
    "print(\"tuple(x) is a\", type(tuple(x)))\n",
    "tuple(x)"
   ]
  },
  {
   "cell_type": "markdown",
   "id": "88311c23",
   "metadata": {},
   "source": [
    "We can also convert a tuple to a list using the list function."
   ]
  },
  {
   "cell_type": "code",
   "execution_count": 26,
   "id": "e1fef1f7",
   "metadata": {
    "hide-output": false
   },
   "outputs": [
    {
     "data": {
      "text/plain": [
       "[1, 'hello', 3.0]"
      ]
     },
     "execution_count": 26,
     "metadata": {},
     "output_type": "execute_result"
    }
   ],
   "source": [
    "list(t)"
   ]
  },
  {
   "cell_type": "markdown",
   "id": "cb9b1326",
   "metadata": {},
   "source": [
    "As with a list, we access items in a tuple `t` using `t[N]` where\n",
    "`N` is an int."
   ]
  },
  {
   "cell_type": "code",
   "execution_count": 27,
   "id": "17a242ad",
   "metadata": {
    "hide-output": false
   },
   "outputs": [
    {
     "data": {
      "text/plain": [
       "1"
      ]
     },
     "execution_count": 27,
     "metadata": {},
     "output_type": "execute_result"
    }
   ],
   "source": [
    "t[0]  # still start counting at 0"
   ]
  },
  {
   "cell_type": "code",
   "execution_count": 28,
   "id": "b29952f7",
   "metadata": {
    "hide-output": false
   },
   "outputs": [
    {
     "data": {
      "text/plain": [
       "3.0"
      ]
     },
     "execution_count": 28,
     "metadata": {},
     "output_type": "execute_result"
    }
   ],
   "source": [
    "t[2]"
   ]
  },
  {
   "cell_type": "markdown",
   "id": "b938abdb",
   "metadata": {},
   "source": [
    "### Exercise\n",
    "\n",
    "See exercise 3 in the [exercise list](#ex2-2).\n",
    "\n",
    "Tuples (and lists) can be unpacked directly into variables."
   ]
  },
  {
   "cell_type": "code",
   "execution_count": 29,
   "id": "573da5ef",
   "metadata": {
    "hide-output": false
   },
   "outputs": [
    {
     "name": "stdout",
     "output_type": "stream",
     "text": [
      "x = 1, y = test\n"
     ]
    }
   ],
   "source": [
    "x, y = (1, \"test\")\n",
    "print(f\"x = {x}, y = {y}\")"
   ]
  },
  {
   "cell_type": "markdown",
   "id": "74f7c1a0",
   "metadata": {},
   "source": [
    "This will be a convenient way to work with functions returning\n",
    "multiple values, as well as within [comprehensions and loops](https://datascience.quantecon.org/control_flow.html)."
   ]
  },
  {
   "cell_type": "markdown",
   "id": "3394e7c0",
   "metadata": {},
   "source": [
    "### List vs Tuple: Which to Use?\n",
    "\n",
    "Should you use a list or tuple?\n",
    "\n",
    "This depends on what you are storing, whether you might need to reorder the elements,\n",
    "or whether you’d add\n",
    "new elements without a complete reinterpretation of the\n",
    "underlying data.\n",
    "\n",
    "For example, take data representing the GDP (in trillions) and population\n",
    "(in billions) for China in 2015."
   ]
  },
  {
   "cell_type": "code",
   "execution_count": 30,
   "id": "7a018b4e",
   "metadata": {
    "hide-output": false
   },
   "outputs": [
    {
     "name": "stdout",
     "output_type": "stream",
     "text": [
      "('China', 2015, 11.06, 1.371)\n"
     ]
    }
   ],
   "source": [
    "china_data_2015 = (\"China\", 2015, 11.06, 1.371)\n",
    "\n",
    "print(china_data_2015)"
   ]
  },
  {
   "cell_type": "markdown",
   "id": "130252ba",
   "metadata": {},
   "source": [
    "In this case, we have used a tuple since: (a) ordering would\n",
    "be meaningless; and (b) adding more data would require a\n",
    "reinterpretation of the whole data structure.\n",
    "\n",
    "On the other hand, consider a list of GDP in China between\n",
    "2013 and 2015."
   ]
  },
  {
   "cell_type": "code",
   "execution_count": 31,
   "id": "bc635b12",
   "metadata": {
    "hide-output": false
   },
   "outputs": [
    {
     "name": "stdout",
     "output_type": "stream",
     "text": [
      "[9.607, 10.48, 11.06]\n"
     ]
    }
   ],
   "source": [
    "gdp_data = [9.607, 10.48, 11.06]\n",
    "print(gdp_data)"
   ]
  },
  {
   "cell_type": "markdown",
   "id": "67ebd1f5",
   "metadata": {},
   "source": [
    "In this case, we have used a list, since adding on a new\n",
    "element to the end of the list for GDP in 2016 would make\n",
    "complete sense.\n",
    "\n",
    "Along these lines, collecting data on China for different\n",
    "years may make sense as a list of tuples (e.g. year, GDP,\n",
    "and population – although we will see better ways to store this sort of data\n",
    "in the [Pandas](https://datascience.quantecon.org/../pandas/index.html) section)."
   ]
  },
  {
   "cell_type": "code",
   "execution_count": 32,
   "id": "d60e9bb6",
   "metadata": {
    "hide-output": false
   },
   "outputs": [
    {
     "name": "stdout",
     "output_type": "stream",
     "text": [
      "[(2015, 11.06, 1.371), (2014, 10.48, 1.364), (2013, 9.607, 1.357)]\n"
     ]
    }
   ],
   "source": [
    "china_data = [(2015, 11.06, 1.371), (2014, 10.48, 1.364), (2013, 9.607, 1.357)]\n",
    "print(china_data)"
   ]
  },
  {
   "cell_type": "markdown",
   "id": "8437ebc2",
   "metadata": {},
   "source": [
    "In general, a rule of thumb is to use a list unless you *need* to use a tuple.\n",
    "\n",
    "Key criteria for tuple use are when you want to:\n",
    "\n",
    "- ensure the *order* of elements can’t change  \n",
    "- ensure the actual values of the elements can’t\n",
    "  change  \n",
    "- use the collection as a key in a dict (we will learn what this\n",
    "  means [soon](#dictionaries))  "
   ]
  },
  {
   "cell_type": "markdown",
   "id": "508d9450",
   "metadata": {},
   "source": [
    "### `zip` and `enumerate`\n",
    "\n",
    "Two functions that can be extremely useful are `zip` and `enumerate`.\n",
    "\n",
    "Both of these functions are best understood by example, so let’s see\n",
    "them in action and then talk about what they do."
   ]
  },
  {
   "cell_type": "code",
   "execution_count": 33,
   "id": "70d3fc5d",
   "metadata": {
    "hide-output": false
   },
   "outputs": [
    {
     "name": "stdout",
     "output_type": "stream",
     "text": [
      "type(z) <class 'zip'>\n"
     ]
    }
   ],
   "source": [
    "gdp_data = [9.607, 10.48, 11.06]\n",
    "years = [2013, 2014, 2015]\n",
    "z = zip(years, gdp_data)\n",
    "print(\"type(z)\", type(z))"
   ]
  },
  {
   "cell_type": "markdown",
   "id": "26f88e56",
   "metadata": {},
   "source": [
    "To see what is inside `z`, let’s convert it to a list."
   ]
  },
  {
   "cell_type": "code",
   "execution_count": 34,
   "id": "edab342c",
   "metadata": {
    "hide-output": false
   },
   "outputs": [
    {
     "data": {
      "text/plain": [
       "[(2013, 9.607), (2014, 10.48), (2015, 11.06)]"
      ]
     },
     "execution_count": 34,
     "metadata": {},
     "output_type": "execute_result"
    }
   ],
   "source": [
    "list(z)"
   ]
  },
  {
   "cell_type": "markdown",
   "id": "5303ef84",
   "metadata": {},
   "source": [
    "Notice that we now have a list where each item is a tuple.\n",
    "\n",
    "Within each tuple, we have one item from each of the collections we\n",
    "passed to the zip function.\n",
    "\n",
    "In particular, the first item in `z` contains the first item from\n",
    "`[2013, 2014, 2015]` and the first item from `[9.607, 10.48, 11.06]`.\n",
    "\n",
    "The second item in `z` contains the second item from each collection\n",
    "and so on.\n",
    "\n",
    "We can access an element in this and then unpack the resulting\n",
    "tuple directly into variables."
   ]
  },
  {
   "cell_type": "code",
   "execution_count": 35,
   "id": "a356e64f",
   "metadata": {
    "hide-output": false
   },
   "outputs": [
    {
     "name": "stdout",
     "output_type": "stream",
     "text": [
      "year = 2013, GDP = 9.607\n"
     ]
    }
   ],
   "source": [
    "l = list(zip(years, gdp_data))\n",
    "x, y = l[0]\n",
    "print(f\"year = {x}, GDP = {y}\")"
   ]
  },
  {
   "cell_type": "markdown",
   "id": "8f8fa48c",
   "metadata": {},
   "source": [
    "Now let’s experiment with `enumerate`."
   ]
  },
  {
   "cell_type": "code",
   "execution_count": 36,
   "id": "32ce53c5",
   "metadata": {
    "hide-output": false
   },
   "outputs": [
    {
     "name": "stdout",
     "output_type": "stream",
     "text": [
      "type(e) <class 'enumerate'>\n"
     ]
    },
    {
     "data": {
      "text/plain": [
       "<enumerate at 0x2333162f6f0>"
      ]
     },
     "execution_count": 36,
     "metadata": {},
     "output_type": "execute_result"
    }
   ],
   "source": [
    "e = enumerate([\"a\", \"b\", \"c\"])\n",
    "print(\"type(e)\", type(e))\n",
    "e"
   ]
  },
  {
   "cell_type": "markdown",
   "id": "5e08d854",
   "metadata": {},
   "source": [
    "Again, we call `list(e)` to see what is inside."
   ]
  },
  {
   "cell_type": "code",
   "execution_count": 37,
   "id": "85c8f3da",
   "metadata": {
    "hide-output": false
   },
   "outputs": [
    {
     "data": {
      "text/plain": [
       "[(0, 'a'), (1, 'b'), (2, 'c')]"
      ]
     },
     "execution_count": 37,
     "metadata": {},
     "output_type": "execute_result"
    }
   ],
   "source": [
    "list(e)"
   ]
  },
  {
   "cell_type": "markdown",
   "id": "1be493c3",
   "metadata": {},
   "source": [
    "We again have a list of tuples, but this time, the first element in each\n",
    "tuple is the *index* of the second tuple element in the initial\n",
    "collection.\n",
    "\n",
    "Notice that the third item is `(2, 'c')` because\n",
    "`[\"a\", \"b\", \"c\"][2]` is `'c'`"
   ]
  },
  {
   "cell_type": "markdown",
   "id": "d52dc19b",
   "metadata": {},
   "source": [
    "### Exercise\n",
    "\n",
    "See exercise 4 in the [exercise list](#ex2-2).\n",
    "\n",
    "An important quirk of some iterable types that are not lists (such as the above `zip`) is that\n",
    "you cannot convert the same type to a list twice.\n",
    "\n",
    "This is because `zip`, `enumerate`, and `range` produce what is called a generator.\n",
    "\n",
    "A generator will only produce each of its elements a single time, so if you call `list` on the same\n",
    "generator a second time, it will not have any elements to iterate over anymore.\n",
    "\n",
    "For more information, refer to the [Python documentation](https://docs.python.org/3/howto/functional.html#generators)."
   ]
  },
  {
   "cell_type": "code",
   "execution_count": 38,
   "id": "40b1c753",
   "metadata": {
    "hide-output": false
   },
   "outputs": [
    {
     "name": "stdout",
     "output_type": "stream",
     "text": [
      "[(2013, 9.607), (2014, 10.48), (2015, 11.06)]\n",
      "[]\n"
     ]
    }
   ],
   "source": [
    "gdp_data = [9.607, 10.48, 11.06]\n",
    "years = [2013, 2014, 2015]\n",
    "z = zip(years, gdp_data)\n",
    "l = list(z)\n",
    "print(l)\n",
    "m = list(z)\n",
    "print(m)"
   ]
  },
  {
   "cell_type": "markdown",
   "id": "cd33a616",
   "metadata": {},
   "source": [
    "## Associative Collections\n",
    "\n",
    "\n",
    "<a id='dictionaries'></a>"
   ]
  },
  {
   "cell_type": "markdown",
   "id": "5c54cf23",
   "metadata": {},
   "source": [
    "### Dictionaries\n",
    "\n",
    "A dictionary (or dict) associates `key`s with `value`s.\n",
    "\n",
    "It will feel similar to a dictionary for words, where the keys are words and\n",
    "the values are the associated definitions.\n",
    "\n",
    "The most common way to create a `dict` is to use curly braces — `{`\n",
    "and `}` — like this:"
   ]
  },
  {
   "cell_type": "code",
   "execution_count": null,
   "id": "0ac45828",
   "metadata": {
    "hide-output": false
   },
   "outputs": [],
   "source": [
    "{\"key1\": value1, \"key2\": value2, ..., \"keyN\": valueN}"
   ]
  },
  {
   "cell_type": "markdown",
   "id": "fb44a83d",
   "metadata": {},
   "source": [
    "where the `...` indicates that we can have any number of additional\n",
    "terms.\n",
    "\n",
    "The crucial part of the syntax is that each key-value pair is written\n",
    "`key: value` and that these pairs are separated by commas — `,`.\n",
    "\n",
    "Let’s see an example using our aggregate data on China in 2015."
   ]
  },
  {
   "cell_type": "code",
   "execution_count": 39,
   "id": "7f155fba",
   "metadata": {
    "hide-output": false
   },
   "outputs": [
    {
     "name": "stdout",
     "output_type": "stream",
     "text": [
      "{'country': 'China', 'year': 2015, 'GDP': 11.06, 'population': 1.371}\n"
     ]
    }
   ],
   "source": [
    "china_data = {\"country\": \"China\", \"year\": 2015, \"GDP\" : 11.06, \"population\": 1.371}\n",
    "print(china_data)"
   ]
  },
  {
   "cell_type": "markdown",
   "id": "51bd87d9",
   "metadata": {},
   "source": [
    "Unlike our above example using a `tuple`, a `dict` allows us to\n",
    "associate a name with each field, rather than having to remember the\n",
    "order within the tuple.\n",
    "\n",
    "Often, code that makes a dict is easier to read if we put each\n",
    "`key: value` pair on its own line. (Recall our earlier comment on\n",
    "using whitespace effectively to improve readability!)\n",
    "\n",
    "The code below is equivalent to what we saw above."
   ]
  },
  {
   "cell_type": "code",
   "execution_count": 40,
   "id": "46ecc8a2",
   "metadata": {
    "hide-output": false
   },
   "outputs": [],
   "source": [
    "china_data = {\n",
    "    \"country\": \"China\",\n",
    "    \"year\": 2015,\n",
    "    \"GDP\" : 11.06,\n",
    "    \"population\": 1.371\n",
    "}"
   ]
  },
  {
   "cell_type": "markdown",
   "id": "a876eae1",
   "metadata": {},
   "source": [
    "Most often, the keys (e.g. “country”, “year”, “GDP”, and “population”)\n",
    "will be strings, but we could also use numbers (`int`, or\n",
    "`float`) or even tuples (or, rarely, a combination of types).\n",
    "\n",
    "The values can be **any** type and different from each other."
   ]
  },
  {
   "cell_type": "markdown",
   "id": "2e0b1713",
   "metadata": {},
   "source": [
    "### Exercise\n",
    "\n",
    "See exercise 5 in the [exercise list](#ex2-2).\n",
    "\n",
    "This next example is meant to emphasize how values can be\n",
    "*anything* – including another dictionary."
   ]
  },
  {
   "cell_type": "code",
   "execution_count": 41,
   "id": "b40637c4",
   "metadata": {
    "hide-output": false
   },
   "outputs": [
    {
     "name": "stdout",
     "output_type": "stream",
     "text": [
      "{'AAPL': {'bid': 175.96, 'ask': 175.98}, 'GE': {'bid': 1047.03, 'ask': 1048.4}, 'TVIX': {'bid': 8.38, 'ask': 8.4}}\n"
     ]
    }
   ],
   "source": [
    "companies = {\"AAPL\": {\"bid\": 175.96, \"ask\": 175.98},\n",
    "             \"GE\": {\"bid\": 1047.03, \"ask\": 1048.40},\n",
    "             \"TVIX\": {\"bid\": 8.38, \"ask\": 8.40}}\n",
    "print(companies)"
   ]
  },
  {
   "cell_type": "markdown",
   "id": "da562eb2",
   "metadata": {},
   "source": [
    "#### Getting, Setting, and Updating dict Items\n",
    "\n",
    "We can now ask Python to tell us the value for a particular key by using\n",
    "the syntax `d[k]`,  where `d` is our `dict` and `k` is the key for which we want to\n",
    "find the value.\n",
    "\n",
    "For example,"
   ]
  },
  {
   "cell_type": "code",
   "execution_count": 42,
   "id": "c293d9bb",
   "metadata": {
    "hide-output": false
   },
   "outputs": [
    {
     "name": "stdout",
     "output_type": "stream",
     "text": [
      "2015\n",
      "country = China, population = 1.371\n"
     ]
    }
   ],
   "source": [
    "print(china_data[\"year\"])\n",
    "print(f\"country = {china_data['country']}, population = {china_data['population']}\")"
   ]
  },
  {
   "cell_type": "markdown",
   "id": "fd0ecb55",
   "metadata": {},
   "source": [
    "Note: when inside of a formatting string, you can use `'` instead of `\"` as above\n",
    "to ensure the formatting still works with the embedded code.\n",
    "\n",
    "If we ask for the value of a key that is not in the dict, we will get an error."
   ]
  },
  {
   "cell_type": "code",
   "execution_count": 43,
   "id": "fc896f5d",
   "metadata": {
    "hide-output": false
   },
   "outputs": [
    {
     "ename": "KeyError",
     "evalue": "'inflation'",
     "output_type": "error",
     "traceback": [
      "\u001b[1;31m---------------------------------------------------------------------------\u001b[0m",
      "\u001b[1;31mKeyError\u001b[0m                                  Traceback (most recent call last)",
      "Cell \u001b[1;32mIn[43], line 2\u001b[0m\n\u001b[0;32m      1\u001b[0m \u001b[38;5;66;03m# uncomment the line below to see the error\u001b[39;00m\n\u001b[1;32m----> 2\u001b[0m \u001b[43mchina_data\u001b[49m\u001b[43m[\u001b[49m\u001b[38;5;124;43m\"\u001b[39;49m\u001b[38;5;124;43minflation\u001b[39;49m\u001b[38;5;124;43m\"\u001b[39;49m\u001b[43m]\u001b[49m\n",
      "\u001b[1;31mKeyError\u001b[0m: 'inflation'"
     ]
    }
   ],
   "source": [
    "# uncomment the line below to see the error\n",
    "china_data[\"inflation\"]"
   ]
  },
  {
   "cell_type": "markdown",
   "id": "bd912c01",
   "metadata": {},
   "source": [
    "We can also add new items to a dict using the syntax `d[new_key] = new_value`.\n",
    "\n",
    "Let’s see some examples."
   ]
  },
  {
   "cell_type": "code",
   "execution_count": 44,
   "id": "1e61a1b7",
   "metadata": {
    "hide-output": false
   },
   "outputs": [
    {
     "name": "stdout",
     "output_type": "stream",
     "text": [
      "{'country': 'China', 'year': 2015, 'GDP': 11.06, 'population': 1.371}\n",
      "{'country': 'China', 'year': 2015, 'GDP': 11.06, 'population': 1.371, 'unemployment': '4.05%'}\n"
     ]
    }
   ],
   "source": [
    "print(china_data)\n",
    "china_data[\"unemployment\"] = \"4.05%\"\n",
    "print(china_data)"
   ]
  },
  {
   "cell_type": "markdown",
   "id": "2d398b4a",
   "metadata": {},
   "source": [
    "To update the value, we use assignment in the same way (which will\n",
    "create the key and value as required)."
   ]
  },
  {
   "cell_type": "code",
   "execution_count": 45,
   "id": "733c5b6c",
   "metadata": {
    "hide-output": false
   },
   "outputs": [
    {
     "name": "stdout",
     "output_type": "stream",
     "text": [
      "{'country': 'China', 'year': 2015, 'GDP': 11.06, 'population': 1.371, 'unemployment': '4.05%'}\n",
      "{'country': 'China', 'year': 2015, 'GDP': 11.06, 'population': 1.371, 'unemployment': '4.051%'}\n"
     ]
    }
   ],
   "source": [
    "print(china_data)\n",
    "china_data[\"unemployment\"] = \"4.051%\"\n",
    "print(china_data)"
   ]
  },
  {
   "cell_type": "markdown",
   "id": "ab4637ae",
   "metadata": {},
   "source": [
    "Or we could change the type."
   ]
  },
  {
   "cell_type": "code",
   "execution_count": 46,
   "id": "629faf5b",
   "metadata": {
    "hide-output": false
   },
   "outputs": [
    {
     "name": "stdout",
     "output_type": "stream",
     "text": [
      "{'country': 'China', 'year': 2015, 'GDP': 11.06, 'population': 1.371, 'unemployment': 4.051}\n"
     ]
    }
   ],
   "source": [
    "china_data[\"unemployment\"] = 4.051\n",
    "print(china_data)"
   ]
  },
  {
   "cell_type": "markdown",
   "id": "57b3a715",
   "metadata": {},
   "source": [
    "#### Exercise\n",
    "\n",
    "See exercise 6 in the [exercise list](#ex2-2)."
   ]
  },
  {
   "cell_type": "markdown",
   "id": "411fb139",
   "metadata": {},
   "source": [
    "#### Common `dict` Functionality\n",
    "\n",
    "We can do some common things with dicts.\n",
    "\n",
    "We will demonstrate them with examples below."
   ]
  },
  {
   "cell_type": "code",
   "execution_count": 47,
   "id": "ce109d37",
   "metadata": {
    "hide-output": false
   },
   "outputs": [
    {
     "data": {
      "text/plain": [
       "5"
      ]
     },
     "execution_count": 47,
     "metadata": {},
     "output_type": "execute_result"
    }
   ],
   "source": [
    "# number of key-value pairs in a dict\n",
    "len(china_data)"
   ]
  },
  {
   "cell_type": "code",
   "execution_count": 48,
   "id": "de234dae",
   "metadata": {
    "hide-output": false
   },
   "outputs": [
    {
     "data": {
      "text/plain": [
       "['country', 'year', 'GDP', 'population', 'unemployment']"
      ]
     },
     "execution_count": 48,
     "metadata": {},
     "output_type": "execute_result"
    }
   ],
   "source": [
    "# get a list of all the keys\n",
    "list(china_data.keys())"
   ]
  },
  {
   "cell_type": "code",
   "execution_count": 49,
   "id": "8fd752eb",
   "metadata": {
    "hide-output": false
   },
   "outputs": [
    {
     "data": {
      "text/plain": [
       "['China', 2015, 11.06, 1.371, 4.051]"
      ]
     },
     "execution_count": 49,
     "metadata": {},
     "output_type": "execute_result"
    }
   ],
   "source": [
    "# get a list of all the values\n",
    "list(china_data.values())"
   ]
  },
  {
   "cell_type": "code",
   "execution_count": 50,
   "id": "034ac176",
   "metadata": {
    "hide-output": false
   },
   "outputs": [
    {
     "data": {
      "text/plain": [
       "{'country': 'China',\n",
       " 'year': 2015,\n",
       " 'GDP': 11.06,\n",
       " 'population': 1.371,\n",
       " 'unemployment': 4.051,\n",
       " 'irrigated_land': 690070,\n",
       " 'top_religions': {'buddhist': 18.2, 'christian': 5.1, 'muslim': 1.8}}"
      ]
     },
     "execution_count": 50,
     "metadata": {},
     "output_type": "execute_result"
    }
   ],
   "source": [
    "more_china_data = {\"irrigated_land\": 690_070, \"top_religions\": {\"buddhist\": 18.2, \"christian\" : 5.1, \"muslim\": 1.8}}\n",
    "\n",
    "# Add all key-value pairs in mydict2 to mydict.\n",
    "# if the key already appears in mydict, overwrite the\n",
    "# value with the value in mydict2\n",
    "china_data.update(more_china_data)\n",
    "china_data"
   ]
  },
  {
   "cell_type": "code",
   "execution_count": 51,
   "id": "cc0e6c4a",
   "metadata": {
    "hide-output": false
   },
   "outputs": [
    {
     "data": {
      "text/plain": [
       "690070"
      ]
     },
     "execution_count": 51,
     "metadata": {},
     "output_type": "execute_result"
    }
   ],
   "source": [
    "# Get the value associated with a key or return a default value\n",
    "# use this to avoid the NameError we saw above if you have a reasonable\n",
    "# default value\n",
    "china_data.get(\"irrigated_land\", \"Data Not Available\")"
   ]
  },
  {
   "cell_type": "code",
   "execution_count": 52,
   "id": "bf7c7ff7",
   "metadata": {
    "hide-output": false
   },
   "outputs": [
    {
     "data": {
      "text/plain": [
       "'Data Not Available'"
      ]
     },
     "execution_count": 52,
     "metadata": {},
     "output_type": "execute_result"
    }
   ],
   "source": [
    "china_data.get(\"death_rate\", \"Data Not Available\")"
   ]
  },
  {
   "cell_type": "markdown",
   "id": "37f429c1",
   "metadata": {},
   "source": [
    "#### Exercise\n",
    "\n",
    "See exercise 7 in the [exercise list](#ex2-2)."
   ]
  },
  {
   "cell_type": "markdown",
   "id": "6054d777",
   "metadata": {},
   "source": [
    "#### Exercise\n",
    "\n",
    "See exercise 8 in the [exercise list](#ex2-2)."
   ]
  },
  {
   "cell_type": "markdown",
   "id": "5df12ce8",
   "metadata": {},
   "source": [
    "### Sets (Optional)\n",
    "\n",
    "Python has an additional way to represent collections of items: sets.\n",
    "\n",
    "Sets come up infrequently, but you should be aware of them.\n",
    "\n",
    "If you are familiar with the mathematical concept of sets, then you will\n",
    "understand the majority of Python sets already.\n",
    "\n",
    "If you don’t know the math behind sets, don’t worry: we’ll cover the\n",
    "basics of Python’s sets here.\n",
    "\n",
    "A set is an *unordered* collection of *unique* elements.\n",
    "\n",
    "The syntax for creating a set uses curly bracket `{` and `}`."
   ]
  },
  {
   "cell_type": "code",
   "execution_count": null,
   "id": "a52eeb09",
   "metadata": {
    "hide-output": false
   },
   "outputs": [],
   "source": [
    "{item1, item2, ..., itemN}"
   ]
  },
  {
   "cell_type": "markdown",
   "id": "3c3e35ac",
   "metadata": {},
   "source": [
    "Here is an example."
   ]
  },
  {
   "cell_type": "code",
   "execution_count": 92,
   "id": "748e32c2",
   "metadata": {
    "hide-output": false
   },
   "outputs": [
    {
     "name": "stdout",
     "output_type": "stream",
     "text": [
      "s has type <class 'set'>\n"
     ]
    },
    {
     "data": {
      "text/plain": [
       "{1, 3.0, 'hello'}"
      ]
     },
     "execution_count": 92,
     "metadata": {},
     "output_type": "execute_result"
    }
   ],
   "source": [
    "s = {1, \"hello\", 3.0}\n",
    "print(\"s has type\", type(s))\n",
    "s"
   ]
  },
  {
   "cell_type": "markdown",
   "id": "679733bd",
   "metadata": {},
   "source": [
    "### Exercise\n",
    "\n",
    "See exercise 9 in the [exercise list](#ex2-2).\n",
    "\n",
    "As with lists and tuples, we can check if something is `in` the set\n",
    "and check the set’s length:"
   ]
  },
  {
   "cell_type": "code",
   "execution_count": 54,
   "id": "a5eeb2aa",
   "metadata": {
    "hide-output": false
   },
   "outputs": [
    {
     "name": "stdout",
     "output_type": "stream",
     "text": [
      "len(s) = 3\n"
     ]
    },
    {
     "data": {
      "text/plain": [
       "True"
      ]
     },
     "execution_count": 54,
     "metadata": {},
     "output_type": "execute_result"
    }
   ],
   "source": [
    "print(\"len(s) =\", len(s))\n",
    "\"hello\" in s"
   ]
  },
  {
   "cell_type": "markdown",
   "id": "5f4aca1c",
   "metadata": {},
   "source": [
    "Unlike lists and tuples, we can’t extract elements of a set `s` using\n",
    "`s[N]` where `N` is a number."
   ]
  },
  {
   "cell_type": "code",
   "execution_count": 93,
   "id": "4a6b24ff",
   "metadata": {
    "hide-output": false
   },
   "outputs": [
    {
     "ename": "TypeError",
     "evalue": "'set' object is not subscriptable",
     "output_type": "error",
     "traceback": [
      "\u001b[1;31m---------------------------------------------------------------------------\u001b[0m",
      "\u001b[1;31mTypeError\u001b[0m                                 Traceback (most recent call last)",
      "Cell \u001b[1;32mIn[93], line 2\u001b[0m\n\u001b[0;32m      1\u001b[0m \u001b[38;5;66;03m# Uncomment the line below to see what happens\u001b[39;00m\n\u001b[1;32m----> 2\u001b[0m \u001b[43ms\u001b[49m\u001b[43m[\u001b[49m\u001b[38;5;241;43m1\u001b[39;49m\u001b[43m]\u001b[49m\n",
      "\u001b[1;31mTypeError\u001b[0m: 'set' object is not subscriptable"
     ]
    }
   ],
   "source": [
    "# Uncomment the line below to see what happens\n",
    "s[1]"
   ]
  },
  {
   "cell_type": "markdown",
   "id": "106b103b",
   "metadata": {},
   "source": [
    "This is because sets are not ordered, so the notion of getting the\n",
    "second element (`s[1]`) is not well defined.\n",
    "\n",
    "We add elements to a set `s` using `s.add`."
   ]
  },
  {
   "cell_type": "code",
   "execution_count": 94,
   "id": "98ae5545",
   "metadata": {
    "hide-output": false
   },
   "outputs": [
    {
     "data": {
      "text/plain": [
       "{1, 100, 3.0, 'hello'}"
      ]
     },
     "execution_count": 94,
     "metadata": {},
     "output_type": "execute_result"
    }
   ],
   "source": [
    "s.add(100)\n",
    "s"
   ]
  },
  {
   "cell_type": "code",
   "execution_count": 95,
   "id": "50c2b734",
   "metadata": {
    "hide-output": false
   },
   "outputs": [
    {
     "data": {
      "text/plain": [
       "{1, 100, 3.0, 'hello'}"
      ]
     },
     "execution_count": 95,
     "metadata": {},
     "output_type": "execute_result"
    }
   ],
   "source": [
    "s.add(\"hello\") # nothing happens, why?\n",
    "s"
   ]
  },
  {
   "cell_type": "markdown",
   "id": "153455c6",
   "metadata": {},
   "source": [
    "We can also do set operations.\n",
    "\n",
    "Consider the set `s` from above and the set\n",
    "`s2 = {\"hello\", \"world\"}`.\n",
    "\n",
    "- `s.union(s2)`: returns a set with all elements in either `s` or\n",
    "  `s2`  \n",
    "- `s.intersection(s2)`: returns a set with all elements in both `s`\n",
    "  and `s2`  \n",
    "- `s.difference(s2)`: returns a set with all elements in `s` that\n",
    "  aren’t in `s2`  \n",
    "- `s.symmetric_difference(s2)`: returns a set with all elements in\n",
    "  only one of `s` and `s2`  "
   ]
  },
  {
   "cell_type": "markdown",
   "id": "93ee550d",
   "metadata": {},
   "source": [
    "### Exercise\n",
    "\n",
    "See exercise 10 in the [exercise list](#ex2-2).\n",
    "\n",
    "As with tuples and lists, a `set` function can convert other\n",
    "collections to sets."
   ]
  },
  {
   "cell_type": "code",
   "execution_count": 58,
   "id": "57f125d8",
   "metadata": {
    "hide-output": false
   },
   "outputs": [
    {
     "data": {
      "text/plain": [
       "{1, 2, 3}"
      ]
     },
     "execution_count": 58,
     "metadata": {},
     "output_type": "execute_result"
    }
   ],
   "source": [
    "x = [1, 2, 3, 1]\n",
    "set(x)"
   ]
  },
  {
   "cell_type": "code",
   "execution_count": 59,
   "id": "a129aee0",
   "metadata": {
    "hide-output": false
   },
   "outputs": [
    {
     "data": {
      "text/plain": [
       "{1, 2, 3}"
      ]
     },
     "execution_count": 59,
     "metadata": {},
     "output_type": "execute_result"
    }
   ],
   "source": [
    "t = (1, 2, 3, 1)\n",
    "set(t)"
   ]
  },
  {
   "cell_type": "markdown",
   "id": "8fd323cc",
   "metadata": {},
   "source": [
    "Likewise, we can convert sets to lists and tuples."
   ]
  },
  {
   "cell_type": "code",
   "execution_count": 60,
   "id": "c8b30507",
   "metadata": {
    "hide-output": false
   },
   "outputs": [
    {
     "data": {
      "text/plain": [
       "['hello', 1, 3.0, 100]"
      ]
     },
     "execution_count": 60,
     "metadata": {},
     "output_type": "execute_result"
    }
   ],
   "source": [
    "list(s)"
   ]
  },
  {
   "cell_type": "code",
   "execution_count": 61,
   "id": "052cfdd6",
   "metadata": {
    "hide-output": false
   },
   "outputs": [
    {
     "data": {
      "text/plain": [
       "('hello', 1, 3.0, 100)"
      ]
     },
     "execution_count": 61,
     "metadata": {},
     "output_type": "execute_result"
    }
   ],
   "source": [
    "tuple(s)"
   ]
  },
  {
   "cell_type": "markdown",
   "id": "0414c75e",
   "metadata": {},
   "source": [
    "\n",
    "<a id='ex2-2'></a>"
   ]
  },
  {
   "cell_type": "markdown",
   "id": "dff5692f",
   "metadata": {},
   "source": [
    "## Exercises"
   ]
  },
  {
   "cell_type": "markdown",
   "id": "a80cc498",
   "metadata": {},
   "source": [
    "### Exercise 1\n",
    "\n",
    "In the first cell, try `y.append(z)`.\n",
    "\n",
    "In the second cell try `y.extend(z)`.\n",
    "\n",
    "Explain the behavior.\n",
    "\n",
    "When you are trying to explain use `y.append?` and `y.extend?` to\n",
    "see a description of what these methods are supposed to do."
   ]
  },
  {
   "cell_type": "code",
   "execution_count": 62,
   "id": "70b65216",
   "metadata": {
    "hide-output": false
   },
   "outputs": [
    {
     "name": "stdout",
     "output_type": "stream",
     "text": [
      "['a', 'b', 'c', [1, 2, 3]]\n"
     ]
    }
   ],
   "source": [
    "y = [\"a\", \"b\", \"c\"]\n",
    "z = [1, 2, 3]\n",
    "y.append(z)\n",
    "print(y)"
   ]
  },
  {
   "cell_type": "code",
   "execution_count": 64,
   "id": "ae50fd94",
   "metadata": {
    "hide-output": false
   },
   "outputs": [
    {
     "name": "stdout",
     "output_type": "stream",
     "text": [
      "['a', 'b', 'c', 1, 2, 3]\n"
     ]
    }
   ],
   "source": [
    "y = [\"a\", \"b\", \"c\"]\n",
    "z = [1, 2, 3]\n",
    "y.extend(z)\n",
    "print(y)"
   ]
  },
  {
   "cell_type": "code",
   "execution_count": 66,
   "id": "b1f830ef",
   "metadata": {},
   "outputs": [
    {
     "name": "stdout",
     "output_type": "stream",
     "text": [
      "\u001b[1;31mSignature:\u001b[0m \u001b[0my\u001b[0m\u001b[1;33m.\u001b[0m\u001b[0mextend\u001b[0m\u001b[1;33m(\u001b[0m\u001b[0miterable\u001b[0m\u001b[1;33m,\u001b[0m \u001b[1;33m/\u001b[0m\u001b[1;33m)\u001b[0m\u001b[1;33m\u001b[0m\u001b[1;33m\u001b[0m\u001b[0m\n",
      "\u001b[1;31mDocstring:\u001b[0m Extend list by appending elements from the iterable.\n",
      "\u001b[1;31mType:\u001b[0m      builtin_function_or_method"
     ]
    }
   ],
   "source": [
    "y.append?\n",
    "y.extend?"
   ]
  },
  {
   "cell_type": "markdown",
   "id": "ad182e87",
   "metadata": {},
   "source": [
    "([back to text](#dir2-2-1))"
   ]
  },
  {
   "cell_type": "markdown",
   "id": "b9fe085f",
   "metadata": {},
   "source": [
    "### Exercise 2\n",
    "\n",
    "Experiment with the other two versions of the `range` function."
   ]
  },
  {
   "cell_type": "code",
   "execution_count": 67,
   "id": "caff4874",
   "metadata": {
    "hide-output": false
   },
   "outputs": [
    {
     "data": {
      "text/plain": [
       "[100,\n",
       " 101,\n",
       " 102,\n",
       " 103,\n",
       " 104,\n",
       " 105,\n",
       " 106,\n",
       " 107,\n",
       " 108,\n",
       " 109,\n",
       " 110,\n",
       " 111,\n",
       " 112,\n",
       " 113,\n",
       " 114,\n",
       " 115,\n",
       " 116,\n",
       " 117,\n",
       " 118,\n",
       " 119,\n",
       " 120,\n",
       " 121,\n",
       " 122,\n",
       " 123,\n",
       " 124,\n",
       " 125,\n",
       " 126,\n",
       " 127,\n",
       " 128,\n",
       " 129,\n",
       " 130,\n",
       " 131,\n",
       " 132,\n",
       " 133,\n",
       " 134,\n",
       " 135,\n",
       " 136,\n",
       " 137,\n",
       " 138,\n",
       " 139,\n",
       " 140,\n",
       " 141,\n",
       " 142,\n",
       " 143,\n",
       " 144,\n",
       " 145,\n",
       " 146,\n",
       " 147,\n",
       " 148,\n",
       " 149,\n",
       " 150,\n",
       " 151,\n",
       " 152,\n",
       " 153,\n",
       " 154,\n",
       " 155,\n",
       " 156,\n",
       " 157,\n",
       " 158,\n",
       " 159,\n",
       " 160,\n",
       " 161,\n",
       " 162,\n",
       " 163,\n",
       " 164,\n",
       " 165,\n",
       " 166,\n",
       " 167,\n",
       " 168,\n",
       " 169,\n",
       " 170,\n",
       " 171,\n",
       " 172,\n",
       " 173,\n",
       " 174,\n",
       " 175,\n",
       " 176,\n",
       " 177,\n",
       " 178,\n",
       " 179,\n",
       " 180,\n",
       " 181,\n",
       " 182,\n",
       " 183,\n",
       " 184,\n",
       " 185,\n",
       " 186,\n",
       " 187,\n",
       " 188,\n",
       " 189,\n",
       " 190,\n",
       " 191,\n",
       " 192,\n",
       " 193,\n",
       " 194,\n",
       " 195,\n",
       " 196,\n",
       " 197,\n",
       " 198,\n",
       " 199,\n",
       " 200,\n",
       " 201,\n",
       " 202,\n",
       " 203,\n",
       " 204,\n",
       " 205,\n",
       " 206,\n",
       " 207,\n",
       " 208,\n",
       " 209,\n",
       " 210,\n",
       " 211,\n",
       " 212,\n",
       " 213,\n",
       " 214,\n",
       " 215,\n",
       " 216,\n",
       " 217,\n",
       " 218,\n",
       " 219,\n",
       " 220,\n",
       " 221,\n",
       " 222,\n",
       " 223,\n",
       " 224,\n",
       " 225,\n",
       " 226,\n",
       " 227,\n",
       " 228,\n",
       " 229,\n",
       " 230,\n",
       " 231,\n",
       " 232,\n",
       " 233,\n",
       " 234,\n",
       " 235,\n",
       " 236,\n",
       " 237,\n",
       " 238,\n",
       " 239,\n",
       " 240,\n",
       " 241,\n",
       " 242,\n",
       " 243,\n",
       " 244,\n",
       " 245,\n",
       " 246,\n",
       " 247,\n",
       " 248,\n",
       " 249,\n",
       " 250,\n",
       " 251,\n",
       " 252,\n",
       " 253,\n",
       " 254,\n",
       " 255,\n",
       " 256,\n",
       " 257,\n",
       " 258,\n",
       " 259,\n",
       " 260,\n",
       " 261,\n",
       " 262,\n",
       " 263,\n",
       " 264,\n",
       " 265,\n",
       " 266,\n",
       " 267,\n",
       " 268,\n",
       " 269,\n",
       " 270,\n",
       " 271,\n",
       " 272,\n",
       " 273,\n",
       " 274,\n",
       " 275,\n",
       " 276,\n",
       " 277,\n",
       " 278,\n",
       " 279,\n",
       " 280,\n",
       " 281,\n",
       " 282,\n",
       " 283,\n",
       " 284,\n",
       " 285,\n",
       " 286,\n",
       " 287,\n",
       " 288,\n",
       " 289,\n",
       " 290,\n",
       " 291,\n",
       " 292,\n",
       " 293,\n",
       " 294,\n",
       " 295,\n",
       " 296,\n",
       " 297,\n",
       " 298,\n",
       " 299,\n",
       " 300,\n",
       " 301,\n",
       " 302,\n",
       " 303,\n",
       " 304,\n",
       " 305,\n",
       " 306,\n",
       " 307,\n",
       " 308,\n",
       " 309,\n",
       " 310,\n",
       " 311,\n",
       " 312,\n",
       " 313,\n",
       " 314,\n",
       " 315,\n",
       " 316,\n",
       " 317,\n",
       " 318,\n",
       " 319,\n",
       " 320,\n",
       " 321,\n",
       " 322,\n",
       " 323,\n",
       " 324,\n",
       " 325,\n",
       " 326,\n",
       " 327,\n",
       " 328,\n",
       " 329,\n",
       " 330,\n",
       " 331,\n",
       " 332,\n",
       " 333,\n",
       " 334,\n",
       " 335,\n",
       " 336,\n",
       " 337,\n",
       " 338,\n",
       " 339,\n",
       " 340,\n",
       " 341,\n",
       " 342,\n",
       " 343,\n",
       " 344,\n",
       " 345,\n",
       " 346,\n",
       " 347,\n",
       " 348,\n",
       " 349,\n",
       " 350,\n",
       " 351,\n",
       " 352,\n",
       " 353,\n",
       " 354,\n",
       " 355,\n",
       " 356,\n",
       " 357,\n",
       " 358,\n",
       " 359,\n",
       " 360,\n",
       " 361,\n",
       " 362,\n",
       " 363,\n",
       " 364,\n",
       " 365,\n",
       " 366,\n",
       " 367,\n",
       " 368,\n",
       " 369,\n",
       " 370,\n",
       " 371,\n",
       " 372,\n",
       " 373,\n",
       " 374,\n",
       " 375,\n",
       " 376,\n",
       " 377,\n",
       " 378,\n",
       " 379,\n",
       " 380,\n",
       " 381,\n",
       " 382,\n",
       " 383,\n",
       " 384,\n",
       " 385,\n",
       " 386,\n",
       " 387,\n",
       " 388,\n",
       " 389,\n",
       " 390,\n",
       " 391,\n",
       " 392,\n",
       " 393,\n",
       " 394,\n",
       " 395,\n",
       " 396,\n",
       " 397,\n",
       " 398,\n",
       " 399,\n",
       " 400,\n",
       " 401,\n",
       " 402,\n",
       " 403,\n",
       " 404,\n",
       " 405,\n",
       " 406,\n",
       " 407,\n",
       " 408,\n",
       " 409,\n",
       " 410,\n",
       " 411,\n",
       " 412,\n",
       " 413,\n",
       " 414,\n",
       " 415,\n",
       " 416,\n",
       " 417,\n",
       " 418,\n",
       " 419,\n",
       " 420,\n",
       " 421,\n",
       " 422,\n",
       " 423,\n",
       " 424,\n",
       " 425,\n",
       " 426,\n",
       " 427,\n",
       " 428,\n",
       " 429,\n",
       " 430,\n",
       " 431,\n",
       " 432,\n",
       " 433,\n",
       " 434,\n",
       " 435,\n",
       " 436,\n",
       " 437,\n",
       " 438,\n",
       " 439,\n",
       " 440,\n",
       " 441,\n",
       " 442,\n",
       " 443,\n",
       " 444,\n",
       " 445,\n",
       " 446,\n",
       " 447,\n",
       " 448,\n",
       " 449,\n",
       " 450,\n",
       " 451,\n",
       " 452,\n",
       " 453,\n",
       " 454,\n",
       " 455,\n",
       " 456,\n",
       " 457,\n",
       " 458,\n",
       " 459,\n",
       " 460,\n",
       " 461,\n",
       " 462,\n",
       " 463,\n",
       " 464,\n",
       " 465,\n",
       " 466,\n",
       " 467,\n",
       " 468,\n",
       " 469,\n",
       " 470,\n",
       " 471,\n",
       " 472,\n",
       " 473,\n",
       " 474,\n",
       " 475,\n",
       " 476,\n",
       " 477,\n",
       " 478,\n",
       " 479,\n",
       " 480,\n",
       " 481,\n",
       " 482,\n",
       " 483,\n",
       " 484,\n",
       " 485,\n",
       " 486,\n",
       " 487,\n",
       " 488,\n",
       " 489,\n",
       " 490,\n",
       " 491,\n",
       " 492,\n",
       " 493,\n",
       " 494,\n",
       " 495,\n",
       " 496,\n",
       " 497,\n",
       " 498,\n",
       " 499,\n",
       " 500,\n",
       " 501,\n",
       " 502,\n",
       " 503,\n",
       " 504,\n",
       " 505,\n",
       " 506,\n",
       " 507,\n",
       " 508,\n",
       " 509,\n",
       " 510,\n",
       " 511,\n",
       " 512,\n",
       " 513,\n",
       " 514,\n",
       " 515,\n",
       " 516,\n",
       " 517,\n",
       " 518,\n",
       " 519,\n",
       " 520,\n",
       " 521,\n",
       " 522,\n",
       " 523,\n",
       " 524,\n",
       " 525,\n",
       " 526,\n",
       " 527,\n",
       " 528,\n",
       " 529,\n",
       " 530,\n",
       " 531,\n",
       " 532,\n",
       " 533,\n",
       " 534,\n",
       " 535,\n",
       " 536,\n",
       " 537,\n",
       " 538,\n",
       " 539,\n",
       " 540,\n",
       " 541,\n",
       " 542,\n",
       " 543,\n",
       " 544,\n",
       " 545,\n",
       " 546,\n",
       " 547,\n",
       " 548,\n",
       " 549,\n",
       " 550,\n",
       " 551,\n",
       " 552,\n",
       " 553,\n",
       " 554,\n",
       " 555,\n",
       " 556,\n",
       " 557,\n",
       " 558,\n",
       " 559,\n",
       " 560,\n",
       " 561,\n",
       " 562,\n",
       " 563,\n",
       " 564,\n",
       " 565,\n",
       " 566,\n",
       " 567,\n",
       " 568,\n",
       " 569,\n",
       " 570,\n",
       " 571,\n",
       " 572,\n",
       " 573,\n",
       " 574,\n",
       " 575,\n",
       " 576,\n",
       " 577,\n",
       " 578,\n",
       " 579,\n",
       " 580,\n",
       " 581,\n",
       " 582,\n",
       " 583,\n",
       " 584,\n",
       " 585,\n",
       " 586,\n",
       " 587,\n",
       " 588,\n",
       " 589,\n",
       " 590,\n",
       " 591,\n",
       " 592,\n",
       " 593,\n",
       " 594,\n",
       " 595,\n",
       " 596,\n",
       " 597,\n",
       " 598,\n",
       " 599,\n",
       " 600,\n",
       " 601,\n",
       " 602,\n",
       " 603,\n",
       " 604,\n",
       " 605,\n",
       " 606,\n",
       " 607,\n",
       " 608,\n",
       " 609,\n",
       " 610,\n",
       " 611,\n",
       " 612,\n",
       " 613,\n",
       " 614,\n",
       " 615,\n",
       " 616,\n",
       " 617,\n",
       " 618,\n",
       " 619,\n",
       " 620,\n",
       " 621,\n",
       " 622,\n",
       " 623,\n",
       " 624,\n",
       " 625,\n",
       " 626,\n",
       " 627,\n",
       " 628,\n",
       " 629,\n",
       " 630,\n",
       " 631,\n",
       " 632,\n",
       " 633,\n",
       " 634,\n",
       " 635,\n",
       " 636,\n",
       " 637,\n",
       " 638,\n",
       " 639,\n",
       " 640,\n",
       " 641,\n",
       " 642,\n",
       " 643,\n",
       " 644,\n",
       " 645,\n",
       " 646,\n",
       " 647,\n",
       " 648,\n",
       " 649,\n",
       " 650,\n",
       " 651,\n",
       " 652,\n",
       " 653,\n",
       " 654,\n",
       " 655,\n",
       " 656,\n",
       " 657,\n",
       " 658,\n",
       " 659,\n",
       " 660,\n",
       " 661,\n",
       " 662,\n",
       " 663,\n",
       " 664,\n",
       " 665,\n",
       " 666,\n",
       " 667,\n",
       " 668,\n",
       " 669,\n",
       " 670,\n",
       " 671,\n",
       " 672,\n",
       " 673,\n",
       " 674,\n",
       " 675,\n",
       " 676,\n",
       " 677,\n",
       " 678,\n",
       " 679,\n",
       " 680,\n",
       " 681,\n",
       " 682,\n",
       " 683,\n",
       " 684,\n",
       " 685,\n",
       " 686,\n",
       " 687,\n",
       " 688,\n",
       " 689,\n",
       " 690,\n",
       " 691,\n",
       " 692,\n",
       " 693,\n",
       " 694,\n",
       " 695,\n",
       " 696,\n",
       " 697,\n",
       " 698,\n",
       " 699,\n",
       " 700,\n",
       " 701,\n",
       " 702,\n",
       " 703,\n",
       " 704,\n",
       " 705,\n",
       " 706,\n",
       " 707,\n",
       " 708,\n",
       " 709,\n",
       " 710,\n",
       " 711,\n",
       " 712,\n",
       " 713,\n",
       " 714,\n",
       " 715,\n",
       " 716,\n",
       " 717,\n",
       " 718,\n",
       " 719,\n",
       " 720,\n",
       " 721,\n",
       " 722,\n",
       " 723,\n",
       " 724,\n",
       " 725,\n",
       " 726,\n",
       " 727,\n",
       " 728,\n",
       " 729,\n",
       " 730,\n",
       " 731,\n",
       " 732,\n",
       " 733,\n",
       " 734,\n",
       " 735,\n",
       " 736,\n",
       " 737,\n",
       " 738,\n",
       " 739,\n",
       " 740,\n",
       " 741,\n",
       " 742,\n",
       " 743,\n",
       " 744,\n",
       " 745,\n",
       " 746,\n",
       " 747,\n",
       " 748,\n",
       " 749,\n",
       " 750,\n",
       " 751,\n",
       " 752,\n",
       " 753,\n",
       " 754,\n",
       " 755,\n",
       " 756,\n",
       " 757,\n",
       " 758,\n",
       " 759,\n",
       " 760,\n",
       " 761,\n",
       " 762,\n",
       " 763,\n",
       " 764,\n",
       " 765,\n",
       " 766,\n",
       " 767,\n",
       " 768,\n",
       " 769,\n",
       " 770,\n",
       " 771,\n",
       " 772,\n",
       " 773,\n",
       " 774,\n",
       " 775,\n",
       " 776,\n",
       " 777,\n",
       " 778,\n",
       " 779,\n",
       " 780,\n",
       " 781,\n",
       " 782,\n",
       " 783,\n",
       " 784,\n",
       " 785,\n",
       " 786,\n",
       " 787,\n",
       " 788,\n",
       " 789,\n",
       " 790,\n",
       " 791,\n",
       " 792,\n",
       " 793,\n",
       " 794,\n",
       " 795,\n",
       " 796,\n",
       " 797,\n",
       " 798,\n",
       " 799,\n",
       " 800,\n",
       " 801,\n",
       " 802,\n",
       " 803,\n",
       " 804,\n",
       " 805,\n",
       " 806,\n",
       " 807,\n",
       " 808,\n",
       " 809,\n",
       " 810,\n",
       " 811,\n",
       " 812,\n",
       " 813,\n",
       " 814,\n",
       " 815,\n",
       " 816,\n",
       " 817,\n",
       " 818,\n",
       " 819,\n",
       " 820,\n",
       " 821,\n",
       " 822,\n",
       " 823,\n",
       " 824,\n",
       " 825,\n",
       " 826,\n",
       " 827,\n",
       " 828,\n",
       " 829,\n",
       " 830,\n",
       " 831,\n",
       " 832,\n",
       " 833,\n",
       " 834,\n",
       " 835,\n",
       " 836,\n",
       " 837,\n",
       " 838,\n",
       " 839,\n",
       " 840,\n",
       " 841,\n",
       " 842,\n",
       " 843,\n",
       " 844,\n",
       " 845,\n",
       " 846,\n",
       " 847,\n",
       " 848,\n",
       " 849,\n",
       " 850,\n",
       " 851,\n",
       " 852,\n",
       " 853,\n",
       " 854,\n",
       " 855,\n",
       " 856,\n",
       " 857,\n",
       " 858,\n",
       " 859,\n",
       " 860,\n",
       " 861,\n",
       " 862,\n",
       " 863,\n",
       " 864,\n",
       " 865,\n",
       " 866,\n",
       " 867,\n",
       " 868,\n",
       " 869,\n",
       " 870,\n",
       " 871,\n",
       " 872,\n",
       " 873,\n",
       " 874,\n",
       " 875,\n",
       " 876,\n",
       " 877,\n",
       " 878,\n",
       " 879,\n",
       " 880,\n",
       " 881,\n",
       " 882,\n",
       " 883,\n",
       " 884,\n",
       " 885,\n",
       " 886,\n",
       " 887,\n",
       " 888,\n",
       " 889,\n",
       " 890,\n",
       " 891,\n",
       " 892,\n",
       " 893,\n",
       " 894,\n",
       " 895,\n",
       " 896,\n",
       " 897,\n",
       " 898,\n",
       " 899,\n",
       " 900,\n",
       " 901,\n",
       " 902,\n",
       " 903,\n",
       " 904,\n",
       " 905,\n",
       " 906,\n",
       " 907,\n",
       " 908,\n",
       " 909,\n",
       " 910,\n",
       " 911,\n",
       " 912,\n",
       " 913,\n",
       " 914,\n",
       " 915,\n",
       " 916,\n",
       " 917,\n",
       " 918,\n",
       " 919,\n",
       " 920,\n",
       " 921,\n",
       " 922,\n",
       " 923,\n",
       " 924,\n",
       " 925,\n",
       " 926,\n",
       " 927,\n",
       " 928,\n",
       " 929,\n",
       " 930,\n",
       " 931,\n",
       " 932,\n",
       " 933,\n",
       " 934,\n",
       " 935,\n",
       " 936,\n",
       " 937,\n",
       " 938,\n",
       " 939,\n",
       " 940,\n",
       " 941,\n",
       " 942,\n",
       " 943,\n",
       " 944,\n",
       " 945,\n",
       " 946,\n",
       " 947,\n",
       " 948,\n",
       " 949,\n",
       " 950,\n",
       " 951,\n",
       " 952,\n",
       " 953,\n",
       " 954,\n",
       " 955,\n",
       " 956,\n",
       " 957,\n",
       " 958,\n",
       " 959,\n",
       " 960,\n",
       " 961,\n",
       " 962,\n",
       " 963,\n",
       " 964,\n",
       " 965,\n",
       " 966,\n",
       " 967,\n",
       " 968,\n",
       " 969,\n",
       " 970,\n",
       " 971,\n",
       " 972,\n",
       " 973,\n",
       " 974,\n",
       " 975,\n",
       " 976,\n",
       " 977,\n",
       " 978,\n",
       " 979,\n",
       " 980,\n",
       " 981,\n",
       " 982,\n",
       " 983,\n",
       " 984,\n",
       " 985,\n",
       " 986,\n",
       " 987,\n",
       " 988,\n",
       " 989,\n",
       " 990,\n",
       " 991,\n",
       " 992,\n",
       " 993,\n",
       " 994,\n",
       " 995,\n",
       " 996,\n",
       " 997,\n",
       " 998,\n",
       " 999]"
      ]
     },
     "execution_count": 67,
     "metadata": {},
     "output_type": "execute_result"
    }
   ],
   "source": [
    "list(range(100, 1000))"
   ]
  },
  {
   "cell_type": "code",
   "execution_count": 68,
   "id": "62b31e01",
   "metadata": {
    "hide-output": false
   },
   "outputs": [
    {
     "data": {
      "text/plain": [
       "[10,\n",
       " 13,\n",
       " 16,\n",
       " 19,\n",
       " 22,\n",
       " 25,\n",
       " 28,\n",
       " 31,\n",
       " 34,\n",
       " 37,\n",
       " 40,\n",
       " 43,\n",
       " 46,\n",
       " 49,\n",
       " 52,\n",
       " 55,\n",
       " 58,\n",
       " 61,\n",
       " 64,\n",
       " 67,\n",
       " 70,\n",
       " 73,\n",
       " 76,\n",
       " 79,\n",
       " 82,\n",
       " 85,\n",
       " 88,\n",
       " 91,\n",
       " 94,\n",
       " 97]"
      ]
     },
     "execution_count": 68,
     "metadata": {},
     "output_type": "execute_result"
    }
   ],
   "source": [
    "list(range(10,100, 3))"
   ]
  },
  {
   "cell_type": "markdown",
   "id": "93db6ebf",
   "metadata": {},
   "source": [
    "([back to text](#dir2-2-2))"
   ]
  },
  {
   "cell_type": "markdown",
   "id": "8b848089",
   "metadata": {},
   "source": [
    "### Exercise 3\n",
    "\n",
    "Verify that tuples are indeed immutable by attempting the following:\n",
    "\n",
    "- Changing the first element of `t` to be `100`  \n",
    "- Appending a new element `\"!!\"` to the end of `t` (remember with a\n",
    "  list `x` we would use `x.append(\"!!\")` to do this  \n",
    "- Sorting `t`  \n",
    "- Reversing `t`  "
   ]
  },
  {
   "cell_type": "code",
   "execution_count": 69,
   "id": "95fd9e45",
   "metadata": {
    "hide-output": false
   },
   "outputs": [
    {
     "ename": "TypeError",
     "evalue": "'tuple' object does not support item assignment",
     "output_type": "error",
     "traceback": [
      "\u001b[1;31m---------------------------------------------------------------------------\u001b[0m",
      "\u001b[1;31mTypeError\u001b[0m                                 Traceback (most recent call last)",
      "Cell \u001b[1;32mIn[69], line 2\u001b[0m\n\u001b[0;32m      1\u001b[0m \u001b[38;5;66;03m# change first element of t\u001b[39;00m\n\u001b[1;32m----> 2\u001b[0m \u001b[43mt\u001b[49m\u001b[43m[\u001b[49m\u001b[38;5;241;43m0\u001b[39;49m\u001b[43m]\u001b[49m \u001b[38;5;241m=\u001b[39m \u001b[38;5;241m100\u001b[39m\n",
      "\u001b[1;31mTypeError\u001b[0m: 'tuple' object does not support item assignment"
     ]
    }
   ],
   "source": [
    "# change first element of t\n",
    "t[0] = 100"
   ]
  },
  {
   "cell_type": "code",
   "execution_count": 70,
   "id": "aa602868",
   "metadata": {
    "hide-output": false
   },
   "outputs": [
    {
     "ename": "AttributeError",
     "evalue": "'tuple' object has no attribute 'append'",
     "output_type": "error",
     "traceback": [
      "\u001b[1;31m---------------------------------------------------------------------------\u001b[0m",
      "\u001b[1;31mAttributeError\u001b[0m                            Traceback (most recent call last)",
      "Cell \u001b[1;32mIn[70], line 2\u001b[0m\n\u001b[0;32m      1\u001b[0m \u001b[38;5;66;03m# appending to t\u001b[39;00m\n\u001b[1;32m----> 2\u001b[0m \u001b[43mt\u001b[49m\u001b[38;5;241;43m.\u001b[39;49m\u001b[43mappend\u001b[49m(\u001b[38;5;124m\"\u001b[39m\u001b[38;5;124m!!\u001b[39m\u001b[38;5;124m\"\u001b[39m)\n",
      "\u001b[1;31mAttributeError\u001b[0m: 'tuple' object has no attribute 'append'"
     ]
    }
   ],
   "source": [
    "# appending to t\n",
    "t.append(\"!!\")"
   ]
  },
  {
   "cell_type": "code",
   "execution_count": 71,
   "id": "8feb8e7c",
   "metadata": {
    "hide-output": false
   },
   "outputs": [
    {
     "ename": "AttributeError",
     "evalue": "'tuple' object has no attribute 'sort'",
     "output_type": "error",
     "traceback": [
      "\u001b[1;31m---------------------------------------------------------------------------\u001b[0m",
      "\u001b[1;31mAttributeError\u001b[0m                            Traceback (most recent call last)",
      "Cell \u001b[1;32mIn[71], line 2\u001b[0m\n\u001b[0;32m      1\u001b[0m \u001b[38;5;66;03m# sorting t\u001b[39;00m\n\u001b[1;32m----> 2\u001b[0m \u001b[43mt\u001b[49m\u001b[38;5;241;43m.\u001b[39;49m\u001b[43msort\u001b[49m()\n",
      "\u001b[1;31mAttributeError\u001b[0m: 'tuple' object has no attribute 'sort'"
     ]
    }
   ],
   "source": [
    "# sorting t\n",
    "t.sort()"
   ]
  },
  {
   "cell_type": "code",
   "execution_count": 72,
   "id": "713fe646",
   "metadata": {
    "hide-output": false
   },
   "outputs": [
    {
     "ename": "AttributeError",
     "evalue": "'tuple' object has no attribute 'reverse'",
     "output_type": "error",
     "traceback": [
      "\u001b[1;31m---------------------------------------------------------------------------\u001b[0m",
      "\u001b[1;31mAttributeError\u001b[0m                            Traceback (most recent call last)",
      "Cell \u001b[1;32mIn[72], line 2\u001b[0m\n\u001b[0;32m      1\u001b[0m \u001b[38;5;66;03m# reversing t\u001b[39;00m\n\u001b[1;32m----> 2\u001b[0m \u001b[43mt\u001b[49m\u001b[38;5;241;43m.\u001b[39;49m\u001b[43mreverse\u001b[49m()\n",
      "\u001b[1;31mAttributeError\u001b[0m: 'tuple' object has no attribute 'reverse'"
     ]
    }
   ],
   "source": [
    "# reversing t\n",
    "t.reverse()"
   ]
  },
  {
   "cell_type": "markdown",
   "id": "3b65a7d8",
   "metadata": {},
   "source": [
    "([back to text](#dir2-2-3))"
   ]
  },
  {
   "cell_type": "markdown",
   "id": "36110bf1",
   "metadata": {},
   "source": [
    "### Exercise 4\n",
    "\n",
    "**Challenging** For the tuple `foo` below, use a combination of `zip`,\n",
    "`range`, and `len` to mimic `enumerate(foo)`.\n",
    "\n",
    "Verify that your proposed solution is correct by converting each to a list\n",
    "and checking equality with `==`.\n",
    "\n",
    "You can see what the answer should look like by starting with\n",
    "`list(enumerate(foo))`."
   ]
  },
  {
   "cell_type": "code",
   "execution_count": 80,
   "id": "fff13f6a",
   "metadata": {
    "hide-output": false
   },
   "outputs": [
    {
     "data": {
      "text/plain": [
       "True"
      ]
     },
     "execution_count": 80,
     "metadata": {},
     "output_type": "execute_result"
    }
   ],
   "source": [
    "foo = (\"good\", \"luck!\")\n",
    "list(zip(list(range(0, len(foo))), foo))\n",
    "list(enumerate(foo)) == list(zip(list(range(0, len(foo))), foo))"
   ]
  },
  {
   "cell_type": "markdown",
   "id": "875d11af",
   "metadata": {},
   "source": [
    "([back to text](#dir2-2-4))"
   ]
  },
  {
   "cell_type": "markdown",
   "id": "0d08cba6",
   "metadata": {},
   "source": [
    "### Exercise 5\n",
    "\n",
    "Create a new dict which associates stock tickers with its stock price.\n",
    "\n",
    "Here are some tickers and a price.\n",
    "\n",
    "- AAPL: 175.96  \n",
    "- GOOGL: 1047.43  \n",
    "- TVIX: 8.38  "
   ]
  },
  {
   "cell_type": "code",
   "execution_count": 82,
   "id": "47fc5cfb",
   "metadata": {
    "hide-output": false
   },
   "outputs": [
    {
     "data": {
      "text/plain": [
       "{'AAPL': 175.96, 'GOOGL': 1047.43, 'TVIX': 8.38}"
      ]
     },
     "execution_count": 82,
     "metadata": {},
     "output_type": "execute_result"
    }
   ],
   "source": [
    "# your code here\n",
    "stock = {\"AAPL\" : 175.96,\n",
    "         \"GOOGL\" : 1047.43,\n",
    "         \"TVIX\" : 8.38\n",
    "         }\n",
    "stock"
   ]
  },
  {
   "cell_type": "markdown",
   "id": "0c4fa9c5",
   "metadata": {},
   "source": [
    "([back to text](#dir2-2-5))"
   ]
  },
  {
   "cell_type": "markdown",
   "id": "e278e505",
   "metadata": {},
   "source": [
    "### Exercise 6\n",
    "\n",
    "Look at the [World Factbook for Australia](https://www.cia.gov/the-world-factbook/countries/australia)\n",
    "and create a dictionary with data containing the following types:\n",
    "float, string, integer, list, and dict.  Choose any data you wish.\n",
    "\n",
    "To confirm, you should have a dictionary that you identified via a key."
   ]
  },
  {
   "cell_type": "code",
   "execution_count": null,
   "id": "bd764da2",
   "metadata": {
    "hide-output": false
   },
   "outputs": [],
   "source": [
    "# your code here"
   ]
  },
  {
   "cell_type": "markdown",
   "id": "f00e1793",
   "metadata": {},
   "source": [
    "([back to text](#dir2-2-6))"
   ]
  },
  {
   "cell_type": "markdown",
   "id": "20090502",
   "metadata": {},
   "source": [
    "### Exercise 7\n",
    "\n",
    "Use Jupyter’s help facilities to learn how to use the `pop` method to\n",
    "remove the key `\"irrigated_land\"` (and its value) from the dict."
   ]
  },
  {
   "cell_type": "code",
   "execution_count": 85,
   "id": "a476badf",
   "metadata": {
    "hide-output": false
   },
   "outputs": [
    {
     "data": {
      "text/plain": [
       "690070"
      ]
     },
     "execution_count": 85,
     "metadata": {},
     "output_type": "execute_result"
    }
   ],
   "source": [
    "# uncomment and use the Inspector or ?\n",
    "#china_data.pop()\n",
    "china_data.pop(\"irrigated_land\")"
   ]
  },
  {
   "cell_type": "markdown",
   "id": "c0529eea",
   "metadata": {},
   "source": [
    "([back to text](#dir2-2-7))"
   ]
  },
  {
   "cell_type": "markdown",
   "id": "94cb6dc5",
   "metadata": {},
   "source": [
    "### Exercise 8\n",
    "\n",
    "Explain what happens to the value you popped.\n",
    "\n",
    "Experiment with calling `pop` twice."
   ]
  },
  {
   "cell_type": "code",
   "execution_count": 86,
   "id": "4438b4d5",
   "metadata": {
    "hide-output": false
   },
   "outputs": [
    {
     "ename": "KeyError",
     "evalue": "'irrigated_land'",
     "output_type": "error",
     "traceback": [
      "\u001b[1;31m---------------------------------------------------------------------------\u001b[0m",
      "\u001b[1;31mKeyError\u001b[0m                                  Traceback (most recent call last)",
      "Cell \u001b[1;32mIn[86], line 2\u001b[0m\n\u001b[0;32m      1\u001b[0m \u001b[38;5;66;03m# your code here\u001b[39;00m\n\u001b[1;32m----> 2\u001b[0m \u001b[43mchina_data\u001b[49m\u001b[38;5;241;43m.\u001b[39;49m\u001b[43mpop\u001b[49m\u001b[43m(\u001b[49m\u001b[38;5;124;43m\"\u001b[39;49m\u001b[38;5;124;43mirrigated_land\u001b[39;49m\u001b[38;5;124;43m\"\u001b[39;49m\u001b[43m)\u001b[49m\n",
      "\u001b[1;31mKeyError\u001b[0m: 'irrigated_land'"
     ]
    }
   ],
   "source": [
    "# your code here\n",
    "china_data.pop(\"irrigated_land\")"
   ]
  },
  {
   "cell_type": "markdown",
   "id": "4b066a46",
   "metadata": {},
   "source": [
    "([back to text](#dir2-2-8))"
   ]
  },
  {
   "cell_type": "markdown",
   "id": "81bafe44",
   "metadata": {},
   "source": [
    "### Exercise 9\n",
    "\n",
    "Try creating a set with repeated elements (e.g. `{1, 2, 1, 2, 1, 2}`).\n",
    "\n",
    "What happens?\n",
    "\n",
    "Why?"
   ]
  },
  {
   "cell_type": "code",
   "execution_count": 91,
   "id": "376ddd4a",
   "metadata": {
    "hide-output": false
   },
   "outputs": [
    {
     "data": {
      "text/plain": [
       "{1, 2}"
      ]
     },
     "execution_count": 91,
     "metadata": {},
     "output_type": "execute_result"
    }
   ],
   "source": [
    "# your code here\n",
    "s5 = {1, 2, 1, 2, 1, 2, 2, 1}\n",
    "s5"
   ]
  },
  {
   "cell_type": "markdown",
   "id": "cc3e3da0",
   "metadata": {},
   "source": [
    "([back to text](#dir2-2-9))"
   ]
  },
  {
   "cell_type": "markdown",
   "id": "f36be7c9",
   "metadata": {},
   "source": [
    "### Exercise 10\n",
    "\n",
    "Test out two of the operations described above using the original set we\n",
    "created, `s`, and the set created below `s2`."
   ]
  },
  {
   "cell_type": "code",
   "execution_count": 89,
   "id": "54f57599",
   "metadata": {
    "hide-output": false
   },
   "outputs": [],
   "source": [
    "s2 = {\"hello\", \"world\"}"
   ]
  },
  {
   "cell_type": "code",
   "execution_count": 98,
   "id": "45f882d6",
   "metadata": {
    "hide-output": false
   },
   "outputs": [
    {
     "data": {
      "text/plain": [
       "{1, 100, 3.0, 'hello', 'world'}"
      ]
     },
     "execution_count": 98,
     "metadata": {},
     "output_type": "execute_result"
    }
   ],
   "source": [
    "# Operation 1\n",
    "s.union(s2)"
   ]
  },
  {
   "cell_type": "code",
   "execution_count": 102,
   "id": "ba33249a",
   "metadata": {
    "hide-output": false
   },
   "outputs": [
    {
     "data": {
      "text/plain": [
       "{1, 100, 3.0, 'world'}"
      ]
     },
     "execution_count": 102,
     "metadata": {},
     "output_type": "execute_result"
    }
   ],
   "source": [
    "# Operation 2\n",
    "s2.symmetric_difference(s)"
   ]
  },
  {
   "cell_type": "markdown",
   "id": "6bae19aa",
   "metadata": {},
   "source": [
    "([back to text](#dir2-2-10))"
   ]
  }
 ],
 "metadata": {
  "date": 1717034546.3954294,
  "filename": "collections.md",
  "kernelspec": {
   "display_name": "Python",
   "language": "python3",
   "name": "python3"
  },
  "language_info": {
   "codemirror_mode": {
    "name": "ipython",
    "version": 3
   },
   "file_extension": ".py",
   "mimetype": "text/x-python",
   "name": "python",
   "nbconvert_exporter": "python",
   "pygments_lexer": "ipython3",
   "version": "3.12.4"
  },
  "title": "Collections"
 },
 "nbformat": 4,
 "nbformat_minor": 5
}
